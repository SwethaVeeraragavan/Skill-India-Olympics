{
  "nbformat": 4,
  "nbformat_minor": 0,
  "metadata": {
    "colab": {
      "name": "Untitled0.ipynb",
      "provenance": []
    },
    "kernelspec": {
      "name": "python3",
      "display_name": "Python 3"
    },
    "language_info": {
      "name": "python"
    }
  },
  "cells": [
    {
      "cell_type": "markdown",
      "metadata": {
        "id": "vQ6wn0S0NTOV"
      },
      "source": [
        "### **Summer Olympics Data Analysis Assignment**"
      ]
    },
    {
      "cell_type": "code",
      "metadata": {
        "id": "jszvQPYYNsPB"
      },
      "source": [
        "import pandas as pd\n",
        "import numpy as np\n",
        "import matplotlib.pyplot as plt"
      ],
      "execution_count": 96,
      "outputs": []
    },
    {
      "cell_type": "code",
      "metadata": {
        "id": "hUaqwG5kQWPs"
      },
      "source": [
        "df = pd.read_csv(\"summer.csv\")"
      ],
      "execution_count": 97,
      "outputs": []
    },
    {
      "cell_type": "code",
      "metadata": {
        "colab": {
          "base_uri": "https://localhost:8080/",
          "height": 204
        },
        "id": "F_ReD1xLQfK9",
        "outputId": "98c74f19-e09d-46e7-bfd2-4acca1831451"
      },
      "source": [
        "df.head()"
      ],
      "execution_count": 98,
      "outputs": [
        {
          "output_type": "execute_result",
          "data": {
            "text/html": [
              "<div>\n",
              "<style scoped>\n",
              "    .dataframe tbody tr th:only-of-type {\n",
              "        vertical-align: middle;\n",
              "    }\n",
              "\n",
              "    .dataframe tbody tr th {\n",
              "        vertical-align: top;\n",
              "    }\n",
              "\n",
              "    .dataframe thead th {\n",
              "        text-align: right;\n",
              "    }\n",
              "</style>\n",
              "<table border=\"1\" class=\"dataframe\">\n",
              "  <thead>\n",
              "    <tr style=\"text-align: right;\">\n",
              "      <th></th>\n",
              "      <th>Year</th>\n",
              "      <th>City</th>\n",
              "      <th>Sport</th>\n",
              "      <th>Discipline</th>\n",
              "      <th>Athlete</th>\n",
              "      <th>Country</th>\n",
              "      <th>Gender</th>\n",
              "      <th>Event</th>\n",
              "      <th>Medal</th>\n",
              "    </tr>\n",
              "  </thead>\n",
              "  <tbody>\n",
              "    <tr>\n",
              "      <th>0</th>\n",
              "      <td>1896</td>\n",
              "      <td>Athens</td>\n",
              "      <td>Aquatics</td>\n",
              "      <td>Swimming</td>\n",
              "      <td>HAJOS, Alfred</td>\n",
              "      <td>HUN</td>\n",
              "      <td>Men</td>\n",
              "      <td>100M Freestyle</td>\n",
              "      <td>Gold</td>\n",
              "    </tr>\n",
              "    <tr>\n",
              "      <th>1</th>\n",
              "      <td>1896</td>\n",
              "      <td>Athens</td>\n",
              "      <td>Aquatics</td>\n",
              "      <td>Swimming</td>\n",
              "      <td>HERSCHMANN, Otto</td>\n",
              "      <td>AUT</td>\n",
              "      <td>Men</td>\n",
              "      <td>100M Freestyle</td>\n",
              "      <td>Silver</td>\n",
              "    </tr>\n",
              "    <tr>\n",
              "      <th>2</th>\n",
              "      <td>1896</td>\n",
              "      <td>Athens</td>\n",
              "      <td>Aquatics</td>\n",
              "      <td>Swimming</td>\n",
              "      <td>DRIVAS, Dimitrios</td>\n",
              "      <td>GRE</td>\n",
              "      <td>Men</td>\n",
              "      <td>100M Freestyle For Sailors</td>\n",
              "      <td>Bronze</td>\n",
              "    </tr>\n",
              "    <tr>\n",
              "      <th>3</th>\n",
              "      <td>1896</td>\n",
              "      <td>Athens</td>\n",
              "      <td>Aquatics</td>\n",
              "      <td>Swimming</td>\n",
              "      <td>MALOKINIS, Ioannis</td>\n",
              "      <td>GRE</td>\n",
              "      <td>Men</td>\n",
              "      <td>100M Freestyle For Sailors</td>\n",
              "      <td>Gold</td>\n",
              "    </tr>\n",
              "    <tr>\n",
              "      <th>4</th>\n",
              "      <td>1896</td>\n",
              "      <td>Athens</td>\n",
              "      <td>Aquatics</td>\n",
              "      <td>Swimming</td>\n",
              "      <td>CHASAPIS, Spiridon</td>\n",
              "      <td>GRE</td>\n",
              "      <td>Men</td>\n",
              "      <td>100M Freestyle For Sailors</td>\n",
              "      <td>Silver</td>\n",
              "    </tr>\n",
              "  </tbody>\n",
              "</table>\n",
              "</div>"
            ],
            "text/plain": [
              "   Year    City     Sport  ... Gender                       Event   Medal\n",
              "0  1896  Athens  Aquatics  ...    Men              100M Freestyle    Gold\n",
              "1  1896  Athens  Aquatics  ...    Men              100M Freestyle  Silver\n",
              "2  1896  Athens  Aquatics  ...    Men  100M Freestyle For Sailors  Bronze\n",
              "3  1896  Athens  Aquatics  ...    Men  100M Freestyle For Sailors    Gold\n",
              "4  1896  Athens  Aquatics  ...    Men  100M Freestyle For Sailors  Silver\n",
              "\n",
              "[5 rows x 9 columns]"
            ]
          },
          "metadata": {},
          "execution_count": 98
        }
      ]
    },
    {
      "cell_type": "markdown",
      "metadata": {
        "id": "xdC-6hyONk1_"
      },
      "source": [
        "**1. In how many cities Summer Olympics is held so far?**\n"
      ]
    },
    {
      "cell_type": "code",
      "metadata": {
        "colab": {
          "base_uri": "https://localhost:8080/"
        },
        "id": "uT1BLEipTKFI",
        "outputId": "6950278a-9be1-437a-b075-70cd65fa404d"
      },
      "source": [
        "print(\"Summer Olympics was help by \" + str(len(df['City'].unique())) + \" cities.\")"
      ],
      "execution_count": 99,
      "outputs": [
        {
          "output_type": "stream",
          "name": "stdout",
          "text": [
            "Summer Olympics was help by 22 cities.\n"
          ]
        }
      ]
    },
    {
      "cell_type": "markdown",
      "metadata": {
        "id": "Cpk8F3ovTwAe"
      },
      "source": [
        "**2.** **Which sport is having most number of Gold Medals so far? (Top 5)**"
      ]
    },
    {
      "cell_type": "code",
      "metadata": {
        "colab": {
          "base_uri": "https://localhost:8080/",
          "height": 484
        },
        "id": "90SO0kUYdlvk",
        "outputId": "fc313e4f-d784-463c-ce9a-988263e52591"
      },
      "source": [
        "data = []\n",
        "g = df[df['Medal'] == 'Gold']\n",
        "for Sport in df['Sport'].unique():\n",
        "  data.append([Sport, len(g[g['Sport'] == Sport])])\n",
        "# data\n",
        "n = len(g['Sport'].unique())\n",
        "print(n, 'Sport has got GOLD Medal.')\n",
        "\n",
        "print(\"\\nGraph representing Top-5 Sport detail.\\n\\n\")\n",
        "data = pd.DataFrame(data, columns = ['Sport', 'Gold Count'])\n",
        "data = data.sort_values(by = 'Gold Count', ascending=False).head()\n",
        "data.plot(x ='Sport',y='Gold Count',kind = 'bar', figsize = (5,5))\n"
      ],
      "execution_count": 100,
      "outputs": [
        {
          "output_type": "stream",
          "name": "stdout",
          "text": [
            "43 Sport has got GOLD Medal.\n",
            "\n",
            "Graph representing Top-5 Sport detail.\n",
            "\n",
            "\n"
          ]
        },
        {
          "output_type": "execute_result",
          "data": {
            "text/plain": [
              "<matplotlib.axes._subplots.AxesSubplot at 0x7ff3e5af2710>"
            ]
          },
          "metadata": {},
          "execution_count": 100
        },
        {
          "output_type": "display_data",
          "data": {
            "image/png": "[encoded data removed]",
            "text/plain": [
              "<Figure size 360x360 with 1 Axes>"
            ]
          },
          "metadata": {
            "needs_background": "light"
          }
        }
      ]
    },
    {
      "cell_type": "markdown",
      "metadata": {
        "id": "selvkU6KkUGM"
      },
      "source": [
        "**3. Which sport is having most number of medals so far? (Top 5)**"
      ]
    },
    {
      "cell_type": "code",
      "metadata": {
        "colab": {
          "base_uri": "https://localhost:8080/",
          "height": 484
        },
        "id": "dQR6fMKNkZ-R",
        "outputId": "a50fe867-1e82-4c70-f75d-43cabac8bb6f"
      },
      "source": [
        "nom = []\n",
        "data = df.groupby('Sport')\n",
        "for sport in data:\n",
        "  nom.append([sport[0],len(sport[1])])\n",
        "\n",
        "nom = pd.DataFrame(nom, columns = ['Sport', 'Medals Count'])\n",
        "nom = nom.sort_values(by = 'Medals Count', ascending=False).head()\n",
        "print(nom['Sport'][0]+ \" sport is having highest number of Medals.\")\n",
        "print()\n",
        "print(\"Graph representing Top-5 Sport detail.\\n\\n\")\n",
        "nom.plot(x ='Sport',y='Medals Count',kind = 'bar', figsize = (5,5))"
      ],
      "execution_count": 103,
      "outputs": [
        {
          "output_type": "stream",
          "name": "stdout",
          "text": [
            "Aquatics sport is having highest number of Medals.\n",
            "\n",
            "Graph representing Top-5 Sport detail.\n",
            "\n",
            "\n"
          ]
        },
        {
          "output_type": "execute_result",
          "data": {
            "text/plain": [
              "<matplotlib.axes._subplots.AxesSubplot at 0x7ff3e563e4d0>"
            ]
          },
          "metadata": {},
          "execution_count": 103
        },
        {
          "output_type": "display_data",
          "data": {
            "image/png": "[encoded data removed]",
            "text/plain": [
              "<Figure size 360x360 with 1 Axes>"
            ]
          },
          "metadata": {
            "needs_background": "light"
          }
        }
      ]
    },
    {
      "cell_type": "markdown",
      "metadata": {
        "id": "oToDQEeqlte0"
      },
      "source": [
        "**4. Which player has won most number of medals? (Top 5)**"
      ]
    },
    {
      "cell_type": "code",
      "metadata": {
        "colab": {
          "base_uri": "https://localhost:8080/",
          "height": 509
        },
        "id": "FIAYc53yl3iE",
        "outputId": "1480192e-3595-4bce-e35a-caa0266cbe80"
      },
      "source": [
        "pla = []\n",
        "data = df.groupby('Athlete')\n",
        "for sport in data:\n",
        "  pla.append([sport[0],len(sport[1])])\n",
        "pla\n",
        "\n",
        "pla = pd.DataFrame(pla, columns = ['Athlete', 'Medal count'])\n",
        "pla = pla.sort_values(by = 'Medal count', ascending=False).head()\n",
        "print(\"Graph representing Top-5 Athlete details.\\n\\n\")\n",
        "pla.plot(x ='Athlete',y='Medal count',kind = 'bar', figsize = (5,5))\n"
      ],
      "execution_count": 104,
      "outputs": [
        {
          "output_type": "stream",
          "name": "stdout",
          "text": [
            "Graph representing Top-5 Athlete details.\n",
            "\n",
            "\n"
          ]
        },
        {
          "output_type": "execute_result",
          "data": {
            "text/plain": [
              "<matplotlib.axes._subplots.AxesSubplot at 0x7ff3e58e3750>"
            ]
          },
          "metadata": {},
          "execution_count": 104
        },
        {
          "output_type": "display_data",
          "data": {
            "image/png": "[encoded data removed]",
            "text/plain": [
              "<Figure size 360x360 with 1 Axes>"
            ]
          },
          "metadata": {
            "needs_background": "light"
          }
        }
      ]
    },
    {
      "cell_type": "markdown",
      "metadata": {
        "id": "MlKflEYfoRA4"
      },
      "source": [
        "**5. Which player has won most number Gold Medals of medals? (Top 5)**"
      ]
    },
    {
      "cell_type": "code",
      "metadata": {
        "colab": {
          "base_uri": "https://localhost:8080/",
          "height": 477
        },
        "id": "JncGBRaxoV11",
        "outputId": "7cbdc9e3-ae7a-4c66-e02c-c4fb73e86284"
      },
      "source": [
        "value = df[df['Medal'] == \"Gold\"]\n",
        "player = []\n",
        "for Athlete in value['Athlete'].unique():\n",
        "    player.append([Athlete, len(value[value['Athlete'] == Athlete])])\n",
        "\n",
        "print(\"Graph represent the top-5 players list.\\n\\n\")\n",
        "player = pd.DataFrame(player, columns = ['Athlete', 'Medal Count'])\n",
        "player = player.sort_values(by = 'Medal Count', ascending=False).head()\n",
        "player.plot(x ='Athlete',y='Medal Count',kind = 'bar', figsize = (5,5))"
      ],
      "execution_count": 105,
      "outputs": [
        {
          "output_type": "stream",
          "name": "stdout",
          "text": [
            "Graph represent the top-5 players list.\n",
            "\n",
            "\n"
          ]
        },
        {
          "output_type": "execute_result",
          "data": {
            "text/plain": [
              "<matplotlib.axes._subplots.AxesSubplot at 0x7ff3e5789610>"
            ]
          },
          "metadata": {},
          "execution_count": 105
        },
        {
          "output_type": "display_data",
          "data": {
            "image/png": "[encoded data removed]",
            "text/plain": [
              "<Figure size 360x360 with 1 Axes>"
            ]
          },
          "metadata": {
            "needs_background": "light"
          }
        }
      ]
    },
    {
      "cell_type": "markdown",
      "metadata": {
        "id": "pJEF7dKUpzMG"
      },
      "source": [
        "**6. In which year India won first Gold Medal in Summer Olympics?**"
      ]
    },
    {
      "cell_type": "code",
      "metadata": {
        "colab": {
          "base_uri": "https://localhost:8080/"
        },
        "id": "WVZ8UGGdp2_u",
        "outputId": "28df0203-cf8d-4267-abc0-0e6be1fa4377"
      },
      "source": [
        "df1 = df[df['Country'] == 'IND']\n",
        "df1 = df1[df1[\"Medal\"] == \"Gold\"]\n",
        "print(\"India won First Gold Medal in the year \" + str(df1['Year'].min()) + \".\")"
      ],
      "execution_count": 106,
      "outputs": [
        {
          "output_type": "stream",
          "name": "stdout",
          "text": [
            "India won First Gold Medal in the year 1928.\n"
          ]
        }
      ]
    },
    {
      "cell_type": "markdown",
      "metadata": {
        "id": "7LTfHXl9qgCj"
      },
      "source": [
        "**7. Which event is most popular in terms on number of players? (Top 5)**"
      ]
    },
    {
      "cell_type": "code",
      "metadata": {
        "colab": {
          "base_uri": "https://localhost:8080/",
          "height": 482
        },
        "id": "dxOWoHxMqhss",
        "outputId": "5764ba28-d897-4486-c6ff-28b5f4bc2c11"
      },
      "source": [
        "lst = []\n",
        "items = df['Event'].unique()\n",
        "for item in items:\n",
        "  lst.append([item,len(df[df['Event'] == item])])\n",
        "\n",
        "print(\"Graph represents the replation between Event & No. of players.\\n\\n\")\n",
        "lst = pd.DataFrame(lst, columns = ['Event', 'No of Players'])\n",
        "lst = lst.sort_values(by = 'No of Players', ascending=False).head()\n",
        "lst.plot(x ='Event',y='No of Players',kind = 'bar', figsize = (5,5))"
      ],
      "execution_count": 107,
      "outputs": [
        {
          "output_type": "stream",
          "name": "stdout",
          "text": [
            "Graph represents the replation between Event & No. of players.\n",
            "\n",
            "\n"
          ]
        },
        {
          "output_type": "execute_result",
          "data": {
            "text/plain": [
              "<matplotlib.axes._subplots.AxesSubplot at 0x7ff3e586da90>"
            ]
          },
          "metadata": {},
          "execution_count": 107
        },
        {
          "output_type": "display_data",
          "data": {
            "image/png": "[encoded data removed]",
            "text/plain": [
              "<Figure size 360x360 with 1 Axes>"
            ]
          },
          "metadata": {
            "needs_background": "light"
          }
        }
      ]
    },
    {
      "cell_type": "markdown",
      "metadata": {
        "id": "zCJCnAtirPbc"
      },
      "source": [
        "**8. Which sport is having most female Gold Medalists? (Top 5)**"
      ]
    },
    {
      "cell_type": "code",
      "metadata": {
        "colab": {
          "base_uri": "https://localhost:8080/",
          "height": 484
        },
        "id": "f05dNBjErQ-o",
        "outputId": "f42f9928-ee74-4b9a-9970-a26d7c4fc791"
      },
      "source": [
        "f = df[df['Gender'] == 'Women']\n",
        "f = f[f['Medal'] == \"Gold\"]\n",
        "print(\"The total gold medal got by females are \" + str(len(f['Sport'])))\n",
        "print(\"\\nRepresented by a graph\\n\\n.\")\n",
        "data = []\n",
        "for Sport in f['Sport'].unique():\n",
        "    data.append([Sport, len(f[f['Sport'] == Sport])])\n",
        "\n",
        "\n",
        "data = pd.DataFrame(data, columns = ['Sport', 'Count'])\n",
        "data = data.sort_values(by = 'Count', ascending=False).head()\n",
        "data.plot(x ='Sport',y='Count',kind = 'bar', figsize = (5,5))"
      ],
      "execution_count": 108,
      "outputs": [
        {
          "output_type": "stream",
          "name": "stdout",
          "text": [
            "The total gold medal got by females are 2788\n",
            "\n",
            "Represented by a graph\n",
            "\n",
            ".\n"
          ]
        },
        {
          "output_type": "execute_result",
          "data": {
            "text/plain": [
              "<matplotlib.axes._subplots.AxesSubplot at 0x7ff3e55df190>"
            ]
          },
          "metadata": {},
          "execution_count": 108
        },
        {
          "output_type": "display_data",
          "data": {
            "image/png": "[encoded data removed]",
            "text/plain": [
              "<Figure size 360x360 with 1 Axes>"
            ]
          },
          "metadata": {
            "needs_background": "light"
          }
        }
      ]
    }
  ]
}